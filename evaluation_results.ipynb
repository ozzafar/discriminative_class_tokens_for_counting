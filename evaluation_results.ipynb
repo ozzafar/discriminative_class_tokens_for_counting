{
 "cells": [
  {
   "cell_type": "markdown",
   "source": [
    "# Imports"
   ],
   "metadata": {
    "collapsed": false
   },
   "id": "2ee174cc9816097"
  },
  {
   "cell_type": "code",
   "execution_count": 19,
   "outputs": [],
   "source": [
    "import pandas as pd"
   ],
   "metadata": {
    "collapsed": false,
    "ExecuteTime": {
     "end_time": "2024-06-15T13:50:33.972657500Z",
     "start_time": "2024-06-15T13:50:33.942947Z"
    }
   },
   "id": "500078e55035212b"
  },
  {
   "cell_type": "markdown",
   "source": [
    "# Find best Learning Rate"
   ],
   "metadata": {
    "collapsed": false
   },
   "id": "ff5b107d2b655bbc"
  },
  {
   "cell_type": "code",
   "execution_count": 20,
   "outputs": [
    {
     "name": "stderr",
     "output_type": "stream",
     "text": [
      "C:\\Users\\ozzafar\\AppData\\Local\\Temp\\ipykernel_18448\\3185428557.py:7: FutureWarning: The behavior of DataFrame concatenation with empty or all-NA entries is deprecated. In a future version, this will no longer exclude empty or all-NA columns when determining the result dtypes. To retain the old behavior, exclude the relevant entries before the concat operation.\n",
      "  all_lrs = pd.concat([all_lrs, pd.DataFrame\n"
     ]
    },
    {
     "data": {
      "text/plain": "        lr  SD MAE (clipcount)  Ours MAE (clipcount)  SD MAE (YOLO)  \\\n0  0.00025           21.358131             16.590973      15.282051   \n1  0.00125           21.681614             10.087102      15.282051   \n2  0.01000           22.110869              6.664971      15.282051   \n3  0.05000           22.070056              5.242243      15.282051   \n4  0.10000           21.524450              5.171116      15.282051   \n\n   Ours MAE (YOLO)   SD CLIP  Ours CLIP  \n0        15.102564  0.705159   0.704340  \n1        13.230769  0.706907   0.705577  \n2        10.743590  0.704704   0.704778  \n3        12.615385  0.704478   0.703470  \n4        11.589744  0.704102   0.703690  ",
      "text/html": "<div>\n<style scoped>\n    .dataframe tbody tr th:only-of-type {\n        vertical-align: middle;\n    }\n\n    .dataframe tbody tr th {\n        vertical-align: top;\n    }\n\n    .dataframe thead th {\n        text-align: right;\n    }\n</style>\n<table border=\"1\" class=\"dataframe\">\n  <thead>\n    <tr style=\"text-align: right;\">\n      <th></th>\n      <th>lr</th>\n      <th>SD MAE (clipcount)</th>\n      <th>Ours MAE (clipcount)</th>\n      <th>SD MAE (YOLO)</th>\n      <th>Ours MAE (YOLO)</th>\n      <th>SD CLIP</th>\n      <th>Ours CLIP</th>\n    </tr>\n  </thead>\n  <tbody>\n    <tr>\n      <th>0</th>\n      <td>0.00025</td>\n      <td>21.358131</td>\n      <td>16.590973</td>\n      <td>15.282051</td>\n      <td>15.102564</td>\n      <td>0.705159</td>\n      <td>0.704340</td>\n    </tr>\n    <tr>\n      <th>1</th>\n      <td>0.00125</td>\n      <td>21.681614</td>\n      <td>10.087102</td>\n      <td>15.282051</td>\n      <td>13.230769</td>\n      <td>0.706907</td>\n      <td>0.705577</td>\n    </tr>\n    <tr>\n      <th>2</th>\n      <td>0.01000</td>\n      <td>22.110869</td>\n      <td>6.664971</td>\n      <td>15.282051</td>\n      <td>10.743590</td>\n      <td>0.704704</td>\n      <td>0.704778</td>\n    </tr>\n    <tr>\n      <th>3</th>\n      <td>0.05000</td>\n      <td>22.070056</td>\n      <td>5.242243</td>\n      <td>15.282051</td>\n      <td>12.615385</td>\n      <td>0.704478</td>\n      <td>0.703470</td>\n    </tr>\n    <tr>\n      <th>4</th>\n      <td>0.10000</td>\n      <td>21.524450</td>\n      <td>5.171116</td>\n      <td>15.282051</td>\n      <td>11.589744</td>\n      <td>0.704102</td>\n      <td>0.703690</td>\n    </tr>\n  </tbody>\n</table>\n</div>"
     },
     "execution_count": 20,
     "metadata": {},
     "output_type": "execute_result"
    }
   ],
   "source": [
    "all_lrs = pd.DataFrame(columns=['lr', 'SD MAE (clipcount)', 'Ours MAE (clipcount)', 'SD MAE (YOLO)', 'Ours MAE (YOLO)', 'SD CLIP', 'Ours CLIP'])\n",
    "lrs = [0.00025, 0.00125, 0.01, 0.05, 0.1]\n",
    "\n",
    "for lr in lrs:\n",
    "    curr = pd.read_pickle(f\"experiments/lr/experiment_{str(lr)[2:]}lr.pkl\")\n",
    "    curr = curr[curr['is_clipcount'] == True]\n",
    "    all_lrs = pd.concat([all_lrs, pd.DataFrame\n",
    "    ([\n",
    "        {\n",
    "            \"lr\" : lr,\n",
    "            'SD MAE (clipcount)' : curr['sd_count_diff'].mean(),\n",
    "            'Ours MAE (clipcount)' : curr['sd_optimized_count_diff'].mean(),\n",
    "            'SD MAE (YOLO)' : curr[curr['is_yolo'] == True]['sd_count_diff2'].mean(),\n",
    "            'Ours MAE (YOLO)' : curr[curr['is_yolo'] == True]['sd_optimized_count_diff2'].mean(),\n",
    "            'SD CLIP' : 1-curr['actual_relevance_score'].mean(),\n",
    "            'Ours CLIP' : 1-curr['optimized_relevance_score'].mean()\n",
    "        }\n",
    "    ])], ignore_index=True)\n",
    "    \n",
    "all_lrs"
   ],
   "metadata": {
    "collapsed": false,
    "ExecuteTime": {
     "end_time": "2024-06-15T13:50:33.984287900Z",
     "start_time": "2024-06-15T13:50:33.948951200Z"
    }
   },
   "id": "ad1087b54eafe70"
  },
  {
   "cell_type": "code",
   "execution_count": 21,
   "outputs": [
    {
     "data": {
      "text/plain": "0.01"
     },
     "execution_count": 21,
     "metadata": {},
     "output_type": "execute_result"
    }
   ],
   "source": [
    "best_lr_index = all_lrs[\"Ours MAE (YOLO)\"].idxmin()\n",
    "best_lr = lrs[best_lr_index]\n",
    "best_lr"
   ],
   "metadata": {
    "collapsed": false,
    "ExecuteTime": {
     "end_time": "2024-06-15T13:50:34.019361900Z",
     "start_time": "2024-06-15T13:50:33.968632300Z"
    }
   },
   "id": "c5f2915752696a34"
  },
  {
   "cell_type": "code",
   "execution_count": 22,
   "outputs": [
    {
     "data": {
      "text/plain": "   amount SD MAE (clipcount) Ours MAE (clipcount) SD MAE (YOLO)  \\\n0       5          11.134555             4.616883      4.384615   \n1      15          23.757216             5.755914     18.538462   \n2      25          31.544502             9.654973     22.923077   \n\n  Ours MAE (YOLO)   SD CLIP  Ours CLIP  \n0        4.153846  0.701925   0.700651  \n1       13.076923  0.706844   0.705809  \n2            15.0  0.705349   0.707909  ",
      "text/html": "<div>\n<style scoped>\n    .dataframe tbody tr th:only-of-type {\n        vertical-align: middle;\n    }\n\n    .dataframe tbody tr th {\n        vertical-align: top;\n    }\n\n    .dataframe thead th {\n        text-align: right;\n    }\n</style>\n<table border=\"1\" class=\"dataframe\">\n  <thead>\n    <tr style=\"text-align: right;\">\n      <th></th>\n      <th>amount</th>\n      <th>SD MAE (clipcount)</th>\n      <th>Ours MAE (clipcount)</th>\n      <th>SD MAE (YOLO)</th>\n      <th>Ours MAE (YOLO)</th>\n      <th>SD CLIP</th>\n      <th>Ours CLIP</th>\n    </tr>\n  </thead>\n  <tbody>\n    <tr>\n      <th>0</th>\n      <td>5</td>\n      <td>11.134555</td>\n      <td>4.616883</td>\n      <td>4.384615</td>\n      <td>4.153846</td>\n      <td>0.701925</td>\n      <td>0.700651</td>\n    </tr>\n    <tr>\n      <th>1</th>\n      <td>15</td>\n      <td>23.757216</td>\n      <td>5.755914</td>\n      <td>18.538462</td>\n      <td>13.076923</td>\n      <td>0.706844</td>\n      <td>0.705809</td>\n    </tr>\n    <tr>\n      <th>2</th>\n      <td>25</td>\n      <td>31.544502</td>\n      <td>9.654973</td>\n      <td>22.923077</td>\n      <td>15.0</td>\n      <td>0.705349</td>\n      <td>0.707909</td>\n    </tr>\n  </tbody>\n</table>\n</div>"
     },
     "execution_count": 22,
     "metadata": {},
     "output_type": "execute_result"
    }
   ],
   "source": [
    "best_lr_df = pd.read_pickle(f\"experiments/lr/experiment_{str(best_lr)[2:]}lr.pkl\")\n",
    "best_lr_df = best_lr_df[best_lr_df['is_clipcount'] == True]\n",
    "\n",
    "# SD (clipcount) MAE\n",
    "sd_clipcount_mae = best_lr_df.groupby('amount').agg({'sd_count_diff': 'mean'}).reset_index()\n",
    "sd_clipcount_mae.rename(columns={'sd_count_diff': 'SD MAE (clipcount)'}, inplace=True)\n",
    "\n",
    "# Ours (clipcount) MAE\n",
    "ours_clipcount_mae = best_lr_df.groupby('amount').agg({'sd_optimized_count_diff': 'mean'}).reset_index()\n",
    "ours_clipcount_mae.rename(columns={'sd_optimized_count_diff': 'Ours MAE (clipcount)'}, inplace=True)\n",
    "\n",
    "# SD (yolo) MAE\n",
    "sd_yolo_mae = best_lr_df[best_lr_df['is_yolo'] == True].groupby('amount').agg({'sd_count_diff2': 'mean'}).reset_index()\n",
    "sd_yolo_mae.rename(columns={'sd_count_diff2': 'SD MAE (YOLO)'}, inplace=True)\n",
    "\n",
    "# Ours (yolo) MAE\n",
    "ours_yolo_mae = best_lr_df[best_lr_df['is_yolo'] == True].groupby('amount').agg({'sd_optimized_count_diff2': 'mean'}).reset_index()\n",
    "ours_yolo_mae.rename(columns={'sd_optimized_count_diff2': 'Ours MAE (YOLO)'}, inplace=True)\n",
    "\n",
    "# SD (CLIP)\n",
    "sd_clip = (1 - best_lr_df.groupby('amount').agg({'actual_relevance_score': 'mean'})).reset_index()\n",
    "sd_clip.rename(columns={'actual_relevance_score': 'SD CLIP'}, inplace=True)\n",
    "\n",
    "# Ours (CLIP)\n",
    "ours_clip = (1 - best_lr_df.groupby('amount').agg({'optimized_relevance_score': 'mean'})).reset_index()\n",
    "ours_clip.rename(columns={'optimized_relevance_score': 'Ours CLIP'}, inplace=True)\n",
    "\n",
    "# Merge all dataframes\n",
    "merged_df = sd_clipcount_mae.merge(ours_clipcount_mae, on='amount', how='outer')\n",
    "merged_df = merged_df.merge(sd_yolo_mae, on='amount', how='outer')\n",
    "merged_df = merged_df.merge(ours_yolo_mae, on='amount', how='outer')\n",
    "merged_df = merged_df.merge(sd_clip, on='amount', how='outer')\n",
    "merged_df = merged_df.merge(ours_clip, on='amount', how='outer')\n",
    "\n",
    "merged_df"
   ],
   "metadata": {
    "collapsed": false,
    "ExecuteTime": {
     "end_time": "2024-06-15T13:50:34.080029700Z",
     "start_time": "2024-06-15T13:50:33.972657500Z"
    }
   },
   "id": "c86579b20a36bf7d"
  },
  {
   "cell_type": "markdown",
   "source": [
    "# Find best lambda"
   ],
   "metadata": {
    "collapsed": false
   },
   "id": "c22dcaea0b07a07"
  },
  {
   "cell_type": "code",
   "execution_count": 23,
   "outputs": [
    {
     "name": "stderr",
     "output_type": "stream",
     "text": [
      "C:\\Users\\ozzafar\\AppData\\Local\\Temp\\ipykernel_18448\\2018212663.py:7: FutureWarning: The behavior of DataFrame concatenation with empty or all-NA entries is deprecated. In a future version, this will no longer exclude empty or all-NA columns when determining the result dtypes. To retain the old behavior, exclude the relevant entries before the concat operation.\n",
      "  all_lambdas = pd.concat([all_lambdas, pd.DataFrame\n"
     ]
    },
    {
     "data": {
      "text/plain": "  lambda  SD MAE (clipcount)  Ours MAE (clipcount)  SD MAE (YOLO)  \\\n0      0           21.409582              6.091541      15.282051   \n1      5           21.590128              5.584012      15.282051   \n2     25           21.315139              5.704018      15.282051   \n3    100           21.409582              5.990197      15.282051   \n\n   Ours MAE (YOLO)   SD CLIP  Ours CLIP  \n0        12.589744  0.706393   0.705208  \n1        11.230769  0.706846   0.705183  \n2        11.871795  0.705355   0.704143  \n3        12.282051  0.706393   0.703284  ",
      "text/html": "<div>\n<style scoped>\n    .dataframe tbody tr th:only-of-type {\n        vertical-align: middle;\n    }\n\n    .dataframe tbody tr th {\n        vertical-align: top;\n    }\n\n    .dataframe thead th {\n        text-align: right;\n    }\n</style>\n<table border=\"1\" class=\"dataframe\">\n  <thead>\n    <tr style=\"text-align: right;\">\n      <th></th>\n      <th>lambda</th>\n      <th>SD MAE (clipcount)</th>\n      <th>Ours MAE (clipcount)</th>\n      <th>SD MAE (YOLO)</th>\n      <th>Ours MAE (YOLO)</th>\n      <th>SD CLIP</th>\n      <th>Ours CLIP</th>\n    </tr>\n  </thead>\n  <tbody>\n    <tr>\n      <th>0</th>\n      <td>0</td>\n      <td>21.409582</td>\n      <td>6.091541</td>\n      <td>15.282051</td>\n      <td>12.589744</td>\n      <td>0.706393</td>\n      <td>0.705208</td>\n    </tr>\n    <tr>\n      <th>1</th>\n      <td>5</td>\n      <td>21.590128</td>\n      <td>5.584012</td>\n      <td>15.282051</td>\n      <td>11.230769</td>\n      <td>0.706846</td>\n      <td>0.705183</td>\n    </tr>\n    <tr>\n      <th>2</th>\n      <td>25</td>\n      <td>21.315139</td>\n      <td>5.704018</td>\n      <td>15.282051</td>\n      <td>11.871795</td>\n      <td>0.705355</td>\n      <td>0.704143</td>\n    </tr>\n    <tr>\n      <th>3</th>\n      <td>100</td>\n      <td>21.409582</td>\n      <td>5.990197</td>\n      <td>15.282051</td>\n      <td>12.282051</td>\n      <td>0.706393</td>\n      <td>0.703284</td>\n    </tr>\n  </tbody>\n</table>\n</div>"
     },
     "execution_count": 23,
     "metadata": {},
     "output_type": "execute_result"
    }
   ],
   "source": [
    "all_lambdas = pd.DataFrame(columns=['lambda', 'SD MAE (clipcount)', 'Ours MAE (clipcount)', 'SD MAE (YOLO)', 'Ours MAE (YOLO)', 'SD CLIP', 'Ours CLIP'])\n",
    "lambdas = [0,5,25,100]\n",
    "\n",
    "for _lambda in lambdas:\n",
    "    curr = pd.read_pickle(f\"experiments/lambda/experiment_{_lambda}lambda{str(best_lr)[2:]}lr.pkl\")\n",
    "    curr = curr[curr['is_clipcount'] == True]\n",
    "    all_lambdas = pd.concat([all_lambdas, pd.DataFrame\n",
    "    ([\n",
    "        {\n",
    "            \"lambda\" : _lambda,\n",
    "            'SD MAE (clipcount)' : curr['sd_count_diff'].mean(),\n",
    "            'Ours MAE (clipcount)' : curr['sd_optimized_count_diff'].mean(),\n",
    "            'SD MAE (YOLO)' : curr[curr['is_yolo'] == True]['sd_count_diff2'].mean(),\n",
    "            'Ours MAE (YOLO)' : curr[curr['is_yolo'] == True]['sd_optimized_count_diff2'].mean(),\n",
    "            'SD CLIP' : 1-curr['actual_relevance_score'].mean(),\n",
    "            'Ours CLIP' : 1-curr['optimized_relevance_score'].mean()\n",
    "        }\n",
    "    ])], ignore_index=True)\n",
    "    \n",
    "all_lambdas"
   ],
   "metadata": {
    "collapsed": false,
    "ExecuteTime": {
     "end_time": "2024-06-15T13:50:34.080491Z",
     "start_time": "2024-06-15T13:50:34.000312100Z"
    }
   },
   "id": "4c9c0d5c45c625d"
  },
  {
   "cell_type": "code",
   "execution_count": 24,
   "outputs": [
    {
     "data": {
      "text/plain": "5"
     },
     "execution_count": 24,
     "metadata": {},
     "output_type": "execute_result"
    }
   ],
   "source": [
    "best_lambda_index = all_lambdas[\"Ours MAE (YOLO)\"].idxmin()\n",
    "best_lambda = lambdas[best_lambda_index]\n",
    "best_lambda"
   ],
   "metadata": {
    "collapsed": false,
    "ExecuteTime": {
     "end_time": "2024-06-15T13:50:34.081005400Z",
     "start_time": "2024-06-15T13:50:34.016239Z"
    }
   },
   "id": "fd953c0c8e396e39"
  },
  {
   "cell_type": "code",
   "execution_count": 25,
   "outputs": [
    {
     "data": {
      "text/plain": "   amount SD MAE (clipcount) Ours MAE (clipcount) SD MAE (YOLO)  \\\n0       5           9.592247             4.918367      4.384615   \n1      15          23.035197             5.362774     18.538462   \n2      25          32.271633             6.481712     22.923077   \n\n  Ours MAE (YOLO)   SD CLIP  Ours CLIP  \n0        3.384615  0.703157   0.700211  \n1       16.923077  0.709599   0.705943  \n2       13.384615  0.707795   0.709448  ",
      "text/html": "<div>\n<style scoped>\n    .dataframe tbody tr th:only-of-type {\n        vertical-align: middle;\n    }\n\n    .dataframe tbody tr th {\n        vertical-align: top;\n    }\n\n    .dataframe thead th {\n        text-align: right;\n    }\n</style>\n<table border=\"1\" class=\"dataframe\">\n  <thead>\n    <tr style=\"text-align: right;\">\n      <th></th>\n      <th>amount</th>\n      <th>SD MAE (clipcount)</th>\n      <th>Ours MAE (clipcount)</th>\n      <th>SD MAE (YOLO)</th>\n      <th>Ours MAE (YOLO)</th>\n      <th>SD CLIP</th>\n      <th>Ours CLIP</th>\n    </tr>\n  </thead>\n  <tbody>\n    <tr>\n      <th>0</th>\n      <td>5</td>\n      <td>9.592247</td>\n      <td>4.918367</td>\n      <td>4.384615</td>\n      <td>3.384615</td>\n      <td>0.703157</td>\n      <td>0.700211</td>\n    </tr>\n    <tr>\n      <th>1</th>\n      <td>15</td>\n      <td>23.035197</td>\n      <td>5.362774</td>\n      <td>18.538462</td>\n      <td>16.923077</td>\n      <td>0.709599</td>\n      <td>0.705943</td>\n    </tr>\n    <tr>\n      <th>2</th>\n      <td>25</td>\n      <td>32.271633</td>\n      <td>6.481712</td>\n      <td>22.923077</td>\n      <td>13.384615</td>\n      <td>0.707795</td>\n      <td>0.709448</td>\n    </tr>\n  </tbody>\n</table>\n</div>"
     },
     "execution_count": 25,
     "metadata": {},
     "output_type": "execute_result"
    }
   ],
   "source": [
    "best_lambda_df = pd.read_pickle(f\"experiments/lambda/experiment_{best_lambda}lambda{str(best_lr)[2:]}lr.pkl\")\n",
    "best_lambda_df = best_lambda_df[best_lambda_df['is_clipcount'] == True]\n",
    "\n",
    "# SD (clipcount) MAE\n",
    "sd_clipcount_mae = best_lambda_df.groupby('amount').agg({'sd_count_diff': 'mean'}).reset_index()\n",
    "sd_clipcount_mae.rename(columns={'sd_count_diff': 'SD MAE (clipcount)'}, inplace=True)\n",
    "\n",
    "# Ours (clipcount) MAE\n",
    "ours_clipcount_mae = best_lambda_df.groupby('amount').agg({'sd_optimized_count_diff': 'mean'}).reset_index()\n",
    "ours_clipcount_mae.rename(columns={'sd_optimized_count_diff': 'Ours MAE (clipcount)'}, inplace=True)\n",
    "\n",
    "# SD (yolo) MAE\n",
    "sd_yolo_mae = best_lambda_df[best_lambda_df['is_yolo'] == True].groupby('amount').agg({'sd_count_diff2': 'mean'}).reset_index()\n",
    "sd_yolo_mae.rename(columns={'sd_count_diff2': 'SD MAE (YOLO)'}, inplace=True)\n",
    "\n",
    "# Ours (yolo) MAE\n",
    "ours_yolo_mae = best_lambda_df[best_lambda_df['is_yolo'] == True].groupby('amount').agg({'sd_optimized_count_diff2': 'mean'}).reset_index()\n",
    "ours_yolo_mae.rename(columns={'sd_optimized_count_diff2': 'Ours MAE (YOLO)'}, inplace=True)\n",
    "\n",
    "# SD (CLIP)\n",
    "sd_clip = (1 - best_lambda_df.groupby('amount').agg({'actual_relevance_score': 'mean'})).reset_index()\n",
    "sd_clip.rename(columns={'actual_relevance_score': 'SD CLIP'}, inplace=True)\n",
    "\n",
    "# Ours (CLIP)\n",
    "ours_clip = (1 - best_lambda_df.groupby('amount').agg({'optimized_relevance_score': 'mean'})).reset_index()\n",
    "ours_clip.rename(columns={'optimized_relevance_score': 'Ours CLIP'}, inplace=True)\n",
    "\n",
    "# Merge all dataframes\n",
    "merged_df = sd_clipcount_mae.merge(ours_clipcount_mae, on='amount', how='outer')\n",
    "merged_df = merged_df.merge(sd_yolo_mae, on='amount', how='outer')\n",
    "merged_df = merged_df.merge(ours_yolo_mae, on='amount', how='outer')\n",
    "merged_df = merged_df.merge(sd_clip, on='amount', how='outer')\n",
    "merged_df = merged_df.merge(ours_clip, on='amount', how='outer')\n",
    "\n",
    "merged_df"
   ],
   "metadata": {
    "collapsed": false,
    "ExecuteTime": {
     "end_time": "2024-06-15T13:50:34.100328500Z",
     "start_time": "2024-06-15T13:50:34.019361900Z"
    }
   },
   "id": "f637b447e73abf21"
  },
  {
   "cell_type": "markdown",
   "source": [
    "# Explore best lambda"
   ],
   "metadata": {
    "collapsed": false
   },
   "id": "55a3e8eaafb8be95"
  },
  {
   "cell_type": "markdown",
   "source": [
    "### 1. Compare with ControlNet Baseline"
   ],
   "metadata": {
    "collapsed": false
   },
   "id": "b932460ae2ae6780"
  },
  {
   "cell_type": "code",
   "execution_count": 26,
   "outputs": [
    {
     "data": {
      "text/plain": "                      MAE (clipcount)  MAE (YOLO)      CLIP\nSD                          21.590128   15.282051  0.706846\nControlNet                   9.812914   15.000000  0.720257\nOurs                         5.584012   11.230769  0.705183\nOurs (dynamic scale)        15.888874    8.022222  0.701867",
      "text/html": "<div>\n<style scoped>\n    .dataframe tbody tr th:only-of-type {\n        vertical-align: middle;\n    }\n\n    .dataframe tbody tr th {\n        vertical-align: top;\n    }\n\n    .dataframe thead th {\n        text-align: right;\n    }\n</style>\n<table border=\"1\" class=\"dataframe\">\n  <thead>\n    <tr style=\"text-align: right;\">\n      <th></th>\n      <th>MAE (clipcount)</th>\n      <th>MAE (YOLO)</th>\n      <th>CLIP</th>\n    </tr>\n  </thead>\n  <tbody>\n    <tr>\n      <th>SD</th>\n      <td>21.590128</td>\n      <td>15.282051</td>\n      <td>0.706846</td>\n    </tr>\n    <tr>\n      <th>ControlNet</th>\n      <td>9.812914</td>\n      <td>15.000000</td>\n      <td>0.720257</td>\n    </tr>\n    <tr>\n      <th>Ours</th>\n      <td>5.584012</td>\n      <td>11.230769</td>\n      <td>0.705183</td>\n    </tr>\n    <tr>\n      <th>Ours (dynamic scale)</th>\n      <td>15.888874</td>\n      <td>8.022222</td>\n      <td>0.701867</td>\n    </tr>\n  </tbody>\n</table>\n</div>"
     },
     "execution_count": 26,
     "metadata": {},
     "output_type": "execute_result"
    }
   ],
   "source": [
    "# ControlNet\n",
    "controlnet = pd.read_pickle(f\"experiments/experiment_controlnet_1.pkl\")\n",
    "controlnet = controlnet[controlnet['is_clipcount'] == True]\n",
    "\n",
    "# dynamic scale factor\n",
    "dynamic_scale = pd.read_pickle(f\"experiments/experiment_dynamic_scale_factor_01.pkl\")\n",
    "dynamic_scale = dynamic_scale[dynamic_scale['is_clipcount'] == True]\n",
    "dynamic_scale = dynamic_scale[dynamic_scale['is_yolo'] == True]\n",
    "\n",
    "sd_mae_clipcount = best_lambda_df['sd_count_diff'].mean()\n",
    "controlnet_mae_clipcount = controlnet['sd_optimized_count_diff'].mean()\n",
    "ours_mae_clipcount = best_lambda_df['sd_optimized_count_diff'].mean()\n",
    "dynamic_scale_mae_clipcount = dynamic_scale['sd_optimized_count_diff'].mean()\n",
    "\n",
    "sd_mae_yolo = best_lambda_df[best_lambda_df['is_yolo']==True]['sd_count_diff2'].mean()\n",
    "controlnet_mae_yolo = controlnet[controlnet['is_yolo']==True]['sd_optimized_count_diff2'].mean()\n",
    "ours_mae_yolo = best_lambda_df[best_lambda_df['is_yolo']==True]['sd_optimized_count_diff2'].mean()\n",
    "dynamic_scale_mae_yolo = dynamic_scale[dynamic_scale['is_yolo']==True]['sd_optimized_count_diff2'].mean()\n",
    "\n",
    "sd_clip = 1-best_lambda_df['actual_relevance_score'].mean()\n",
    "controlnet_clip = 1-controlnet['optimized_relevance_score'].mean()\n",
    "ours_mae_clip = 1-best_lambda_df['optimized_relevance_score'].mean()\n",
    "dynamic_scale_mae_clip = 1-dynamic_scale['optimized_relevance_score'].mean()\n",
    "\n",
    "\n",
    "data = {\n",
    "    'MAE (clipcount)': [sd_mae_clipcount, controlnet_mae_clipcount, ours_mae_clipcount, dynamic_scale_mae_clipcount],\n",
    "    'MAE (YOLO)': [sd_mae_yolo, controlnet_mae_yolo, ours_mae_yolo, dynamic_scale_mae_yolo],\n",
    "    'CLIP': [sd_clip, controlnet_clip, ours_mae_clip, dynamic_scale_mae_clip]\n",
    "}\n",
    "\n",
    "pd.DataFrame(data, index=['SD', 'ControlNet', 'Ours', 'Ours (dynamic scale)'])"
   ],
   "metadata": {
    "collapsed": false,
    "ExecuteTime": {
     "end_time": "2024-06-15T13:50:34.100328500Z",
     "start_time": "2024-06-15T13:50:34.048346300Z"
    }
   },
   "id": "1f869743b898df6f"
  },
  {
   "cell_type": "code",
   "execution_count": 27,
   "outputs": [
    {
     "data": {
      "text/plain": "   amount SD MAE (clipcount) Ours MAE (clipcount) SD MAE (YOLO)  \\\n0       5           4.906011            16.002864           4.6   \n1      15          23.152459            15.259892     18.733333   \n2      25          35.251232            16.403866          22.2   \n\n  Ours MAE (YOLO)   SD CLIP  Ours CLIP  \n0        2.733333  0.696720   0.698453  \n1        9.666667  0.703467   0.701213  \n2       11.666667  0.706853   0.705933  ",
      "text/html": "<div>\n<style scoped>\n    .dataframe tbody tr th:only-of-type {\n        vertical-align: middle;\n    }\n\n    .dataframe tbody tr th {\n        vertical-align: top;\n    }\n\n    .dataframe thead th {\n        text-align: right;\n    }\n</style>\n<table border=\"1\" class=\"dataframe\">\n  <thead>\n    <tr style=\"text-align: right;\">\n      <th></th>\n      <th>amount</th>\n      <th>SD MAE (clipcount)</th>\n      <th>Ours MAE (clipcount)</th>\n      <th>SD MAE (YOLO)</th>\n      <th>Ours MAE (YOLO)</th>\n      <th>SD CLIP</th>\n      <th>Ours CLIP</th>\n    </tr>\n  </thead>\n  <tbody>\n    <tr>\n      <th>0</th>\n      <td>5</td>\n      <td>4.906011</td>\n      <td>16.002864</td>\n      <td>4.6</td>\n      <td>2.733333</td>\n      <td>0.696720</td>\n      <td>0.698453</td>\n    </tr>\n    <tr>\n      <th>1</th>\n      <td>15</td>\n      <td>23.152459</td>\n      <td>15.259892</td>\n      <td>18.733333</td>\n      <td>9.666667</td>\n      <td>0.703467</td>\n      <td>0.701213</td>\n    </tr>\n    <tr>\n      <th>2</th>\n      <td>25</td>\n      <td>35.251232</td>\n      <td>16.403866</td>\n      <td>22.2</td>\n      <td>11.666667</td>\n      <td>0.706853</td>\n      <td>0.705933</td>\n    </tr>\n  </tbody>\n</table>\n</div>"
     },
     "execution_count": 27,
     "metadata": {},
     "output_type": "execute_result"
    }
   ],
   "source": [
    "## Detailed Dynamic Scale Factor\n",
    "\n",
    "\n",
    "# SD (clipcount) MAE\n",
    "sd_clipcount_mae = dynamic_scale.groupby('amount').agg({'sd_count_diff': 'mean'}).reset_index()\n",
    "sd_clipcount_mae.rename(columns={'sd_count_diff': 'SD MAE (clipcount)'}, inplace=True)\n",
    "\n",
    "# Ours (clipcount) MAE\n",
    "ours_clipcount_mae = dynamic_scale.groupby('amount').agg({'sd_optimized_count_diff': 'mean'}).reset_index()\n",
    "ours_clipcount_mae.rename(columns={'sd_optimized_count_diff': 'Ours MAE (clipcount)'}, inplace=True)\n",
    "\n",
    "# SD (yolo) MAE\n",
    "sd_yolo_mae = dynamic_scale[dynamic_scale['is_yolo'] == True].groupby('amount').agg({'sd_count_diff2': 'mean'}).reset_index()\n",
    "sd_yolo_mae.rename(columns={'sd_count_diff2': 'SD MAE (YOLO)'}, inplace=True)\n",
    "\n",
    "# Ours (yolo) MAE\n",
    "ours_yolo_mae = dynamic_scale[dynamic_scale['is_yolo'] == True].groupby('amount').agg({'sd_optimized_count_diff2': 'mean'}).reset_index()\n",
    "ours_yolo_mae.rename(columns={'sd_optimized_count_diff2': 'Ours MAE (YOLO)'}, inplace=True)\n",
    "\n",
    "# SD (CLIP)\n",
    "sd_clip = (1 - dynamic_scale.groupby('amount').agg({'actual_relevance_score': 'mean'})).reset_index()\n",
    "sd_clip.rename(columns={'actual_relevance_score': 'SD CLIP'}, inplace=True)\n",
    "\n",
    "# Ours (CLIP)\n",
    "ours_clip = (1 - dynamic_scale.groupby('amount').agg({'optimized_relevance_score': 'mean'})).reset_index()\n",
    "ours_clip.rename(columns={'optimized_relevance_score': 'Ours CLIP'}, inplace=True)\n",
    "\n",
    "# Merge all dataframes\n",
    "merged_df = sd_clipcount_mae.merge(ours_clipcount_mae, on='amount', how='outer')\n",
    "merged_df = merged_df.merge(sd_yolo_mae, on='amount', how='outer')\n",
    "merged_df = merged_df.merge(ours_yolo_mae, on='amount', how='outer')\n",
    "merged_df = merged_df.merge(sd_clip, on='amount', how='outer')\n",
    "merged_df = merged_df.merge(ours_clip, on='amount', how='outer')\n",
    "\n",
    "merged_df"
   ],
   "metadata": {
    "collapsed": false,
    "ExecuteTime": {
     "end_time": "2024-06-15T13:50:34.174469800Z",
     "start_time": "2024-06-15T13:50:34.056656600Z"
    }
   },
   "id": "6ea58a2944ce619a"
  },
  {
   "cell_type": "markdown",
   "source": [
    "## Compare to standard SDXL with different number of diffusion steps"
   ],
   "metadata": {
    "collapsed": false
   },
   "id": "fee193e07679328b"
  },
  {
   "cell_type": "code",
   "execution_count": 28,
   "outputs": [
    {
     "name": "stderr",
     "output_type": "stream",
     "text": [
      "C:\\Users\\ozzafar\\AppData\\Local\\Temp\\ipykernel_18448\\1421572942.py:6: FutureWarning: The behavior of DataFrame concatenation with empty or all-NA entries is deprecated. In a future version, this will no longer exclude empty or all-NA columns when determining the result dtypes. To retain the old behavior, exclude the relevant entries before the concat operation.\n",
      "  all_steps = pd.concat([all_steps, pd.DataFrame\n"
     ]
    },
    {
     "data": {
      "text/plain": "  steps  SD (clipcount) MAE  Ours (clipcount) MAE  SD (yolo) MAE  \\\n0     1           22.563755              5.596906      14.923077   \n1     2           15.722917              6.610024      14.307692   \n2     3           14.901099              7.136169      13.564103   \n3     4           14.458994              7.712382      13.538462   \n\n   Ours (yolo) MAE  SD (CLIP)  Ours (CLIP)  \n0        11.230769   0.707426     0.705112  \n1        12.615385   0.705697     0.705143  \n2        12.205128   0.709214     0.707731  \n3        11.461538   0.710098     0.708994  ",
      "text/html": "<div>\n<style scoped>\n    .dataframe tbody tr th:only-of-type {\n        vertical-align: middle;\n    }\n\n    .dataframe tbody tr th {\n        vertical-align: top;\n    }\n\n    .dataframe thead th {\n        text-align: right;\n    }\n</style>\n<table border=\"1\" class=\"dataframe\">\n  <thead>\n    <tr style=\"text-align: right;\">\n      <th></th>\n      <th>steps</th>\n      <th>SD (clipcount) MAE</th>\n      <th>Ours (clipcount) MAE</th>\n      <th>SD (yolo) MAE</th>\n      <th>Ours (yolo) MAE</th>\n      <th>SD (CLIP)</th>\n      <th>Ours (CLIP)</th>\n    </tr>\n  </thead>\n  <tbody>\n    <tr>\n      <th>0</th>\n      <td>1</td>\n      <td>22.563755</td>\n      <td>5.596906</td>\n      <td>14.923077</td>\n      <td>11.230769</td>\n      <td>0.707426</td>\n      <td>0.705112</td>\n    </tr>\n    <tr>\n      <th>1</th>\n      <td>2</td>\n      <td>15.722917</td>\n      <td>6.610024</td>\n      <td>14.307692</td>\n      <td>12.615385</td>\n      <td>0.705697</td>\n      <td>0.705143</td>\n    </tr>\n    <tr>\n      <th>2</th>\n      <td>3</td>\n      <td>14.901099</td>\n      <td>7.136169</td>\n      <td>13.564103</td>\n      <td>12.205128</td>\n      <td>0.709214</td>\n      <td>0.707731</td>\n    </tr>\n    <tr>\n      <th>3</th>\n      <td>4</td>\n      <td>14.458994</td>\n      <td>7.712382</td>\n      <td>13.538462</td>\n      <td>11.461538</td>\n      <td>0.710098</td>\n      <td>0.708994</td>\n    </tr>\n  </tbody>\n</table>\n</div>"
     },
     "execution_count": 28,
     "metadata": {},
     "output_type": "execute_result"
    }
   ],
   "source": [
    "all_steps = pd.DataFrame(columns=['steps', 'SD (clipcount) MAE', 'Ours (clipcount) MAE', 'SD (yolo) MAE', 'Ours (yolo) MAE', 'SD (CLIP)', 'Ours (CLIP)'])\n",
    "\n",
    "for step in range(1,5):\n",
    "    curr = pd.read_pickle(f\"experiments/token_reuse/experiment_{best_lambda}lambda{str(best_lr)[2:]}lr-eval-{step}.pkl\")\n",
    "    curr = curr[curr['is_clipcount'] == True]\n",
    "    all_steps = pd.concat([all_steps, pd.DataFrame\n",
    "    ([\n",
    "        {\n",
    "            \"steps\" : step,\n",
    "            'SD (clipcount) MAE' : curr['sd_count_diff'].mean(),\n",
    "            'Ours (clipcount) MAE' : curr['sd_optimized_count_diff'].mean(),\n",
    "            'SD (yolo) MAE' : curr[curr['is_yolo'] == True]['sd_count_diff2'].mean(),\n",
    "            'Ours (yolo) MAE' : curr[curr['is_yolo'] == True]['sd_optimized_count_diff2'].mean(),\n",
    "            'SD (CLIP)' : 1-curr['actual_relevance_score'].mean(),\n",
    "            'Ours (CLIP)' : 1-curr['optimized_relevance_score'].mean()\n",
    "        }\n",
    "    ])], ignore_index=True)\n",
    "    \n",
    "all_steps"
   ],
   "metadata": {
    "collapsed": false,
    "ExecuteTime": {
     "end_time": "2024-06-15T13:50:34.174469800Z",
     "start_time": "2024-06-15T13:50:34.080029700Z"
    }
   },
   "id": "d7563adf99fbca22"
  },
  {
   "cell_type": "code",
   "execution_count": 28,
   "outputs": [],
   "source": [],
   "metadata": {
    "collapsed": false,
    "ExecuteTime": {
     "end_time": "2024-06-15T13:50:34.174469800Z",
     "start_time": "2024-06-15T13:50:34.099821Z"
    }
   },
   "id": "e3a8c78abce0a1c5"
  }
 ],
 "metadata": {
  "kernelspec": {
   "display_name": "Python 3",
   "language": "python",
   "name": "python3"
  },
  "language_info": {
   "codemirror_mode": {
    "name": "ipython",
    "version": 2
   },
   "file_extension": ".py",
   "mimetype": "text/x-python",
   "name": "python",
   "nbconvert_exporter": "python",
   "pygments_lexer": "ipython2",
   "version": "2.7.6"
  }
 },
 "nbformat": 4,
 "nbformat_minor": 5
}
