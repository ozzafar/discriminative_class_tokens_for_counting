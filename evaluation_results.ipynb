{
 "cells": [
  {
   "cell_type": "markdown",
   "source": [
    "# Imports"
   ],
   "metadata": {
    "collapsed": false
   },
   "id": "2ee174cc9816097"
  },
  {
   "cell_type": "code",
   "execution_count": 1,
   "outputs": [
    {
     "name": "stderr",
     "output_type": "stream",
     "text": [
      "C:\\Users\\ozzafar\\AppData\\Local\\Temp\\ipykernel_33248\\2035458946.py:1: DeprecationWarning: \n",
      "Pyarrow will become a required dependency of pandas in the next major release of pandas (pandas 3.0),\n",
      "(to allow more performant data types, such as the Arrow string type, and better interoperability with other libraries)\n",
      "but was not found to be installed on your system.\n",
      "If this would cause problems for you,\n",
      "please provide us feedback at https://github.com/pandas-dev/pandas/issues/54466\n",
      "        \n",
      "  import pandas as pd\n"
     ]
    }
   ],
   "source": [
    "import pandas as pd"
   ],
   "metadata": {
    "collapsed": false,
    "ExecuteTime": {
     "end_time": "2024-06-07T13:36:20.127470Z",
     "start_time": "2024-06-07T13:36:19.828727700Z"
    }
   },
   "id": "500078e55035212b"
  },
  {
   "cell_type": "markdown",
   "source": [
    "# Find best lambda"
   ],
   "metadata": {
    "collapsed": false
   },
   "id": "c22dcaea0b07a07"
  },
  {
   "cell_type": "code",
   "execution_count": 8,
   "outputs": [
    {
     "name": "stderr",
     "output_type": "stream",
     "text": [
      "C:\\Users\\ozzafar\\AppData\\Local\\Temp\\ipykernel_33248\\2454065537.py:7: FutureWarning: The behavior of DataFrame concatenation with empty or all-NA entries is deprecated. In a future version, this will no longer exclude empty or all-NA columns when determining the result dtypes. To retain the old behavior, exclude the relevant entries before the concat operation.\n",
      "  all_lambdas = pd.concat([all_lambdas, pd.DataFrame\n"
     ]
    },
    {
     "data": {
      "text/plain": "  lambda  SD MAE (clipcount)  Ours MAE (clipcount)  SD MAE (YOLO)  \\\n0      0           21.590128              6.435795      15.282051   \n1      5           21.354273              5.118946      15.282051   \n2     25           21.462005              5.052094      15.282051   \n3    100           21.462005              5.640778      15.282051   \n\n   Ours MAE (YOLO)   SD CLIP  Ours CLIP  \n0        12.051282  0.706846   0.706864  \n1        14.615385  0.705741   0.705988  \n2        11.435897  0.704020   0.702141  \n3        12.666667  0.704020   0.702143  ",
      "text/html": "<div>\n<style scoped>\n    .dataframe tbody tr th:only-of-type {\n        vertical-align: middle;\n    }\n\n    .dataframe tbody tr th {\n        vertical-align: top;\n    }\n\n    .dataframe thead th {\n        text-align: right;\n    }\n</style>\n<table border=\"1\" class=\"dataframe\">\n  <thead>\n    <tr style=\"text-align: right;\">\n      <th></th>\n      <th>lambda</th>\n      <th>SD MAE (clipcount)</th>\n      <th>Ours MAE (clipcount)</th>\n      <th>SD MAE (YOLO)</th>\n      <th>Ours MAE (YOLO)</th>\n      <th>SD CLIP</th>\n      <th>Ours CLIP</th>\n    </tr>\n  </thead>\n  <tbody>\n    <tr>\n      <th>0</th>\n      <td>0</td>\n      <td>21.590128</td>\n      <td>6.435795</td>\n      <td>15.282051</td>\n      <td>12.051282</td>\n      <td>0.706846</td>\n      <td>0.706864</td>\n    </tr>\n    <tr>\n      <th>1</th>\n      <td>5</td>\n      <td>21.354273</td>\n      <td>5.118946</td>\n      <td>15.282051</td>\n      <td>14.615385</td>\n      <td>0.705741</td>\n      <td>0.705988</td>\n    </tr>\n    <tr>\n      <th>2</th>\n      <td>25</td>\n      <td>21.462005</td>\n      <td>5.052094</td>\n      <td>15.282051</td>\n      <td>11.435897</td>\n      <td>0.704020</td>\n      <td>0.702141</td>\n    </tr>\n    <tr>\n      <th>3</th>\n      <td>100</td>\n      <td>21.462005</td>\n      <td>5.640778</td>\n      <td>15.282051</td>\n      <td>12.666667</td>\n      <td>0.704020</td>\n      <td>0.702143</td>\n    </tr>\n  </tbody>\n</table>\n</div>"
     },
     "execution_count": 8,
     "metadata": {},
     "output_type": "execute_result"
    }
   ],
   "source": [
    "all_lambdas = pd.DataFrame(columns=['lambda', 'SD MAE (clipcount)', 'Ours MAE (clipcount)', 'SD MAE (YOLO)', 'Ours MAE (YOLO)', 'SD CLIP', 'Ours CLIP'])\n",
    "lambdas = [0,5,25,100]\n",
    "\n",
    "for _lambda in lambdas:\n",
    "    curr = pd.read_pickle(f\"experiments/experiment_{_lambda}lambda.pkl\")\n",
    "    curr = curr[curr['is_clipcount'] == True]\n",
    "    all_lambdas = pd.concat([all_lambdas, pd.DataFrame\n",
    "    ([\n",
    "        {\n",
    "            \"lambda\" : _lambda,\n",
    "            'SD MAE (clipcount)' : curr['sd_count_diff'].mean(),\n",
    "            'Ours MAE (clipcount)' : curr['sd_optimized_count_diff'].mean(),\n",
    "            'SD MAE (YOLO)' : curr[curr['is_yolo'] == True]['sd_count_diff2'].mean(),\n",
    "            'Ours MAE (YOLO)' : curr[curr['is_yolo'] == True]['sd_optimized_count_diff2'].mean(),\n",
    "            'SD CLIP' : 1-curr['actual_relevance_score'].mean(),\n",
    "            'Ours CLIP' : 1-curr['optimized_relevance_score'].mean()\n",
    "        }\n",
    "    ])], ignore_index=True)\n",
    "    \n",
    "all_lambdas"
   ],
   "metadata": {
    "collapsed": false,
    "ExecuteTime": {
     "end_time": "2024-06-07T13:45:20.205375800Z",
     "start_time": "2024-06-07T13:45:20.189640600Z"
    }
   },
   "id": "4c9c0d5c45c625d"
  },
  {
   "cell_type": "code",
   "execution_count": 9,
   "outputs": [
    {
     "data": {
      "text/plain": "25"
     },
     "execution_count": 9,
     "metadata": {},
     "output_type": "execute_result"
    }
   ],
   "source": [
    "best_lambda_index = all_lambdas[\"Ours MAE (YOLO)\"].idxmin()\n",
    "best_lambda = lambdas[best_lambda_index]\n",
    "best_lambda"
   ],
   "metadata": {
    "collapsed": false,
    "ExecuteTime": {
     "end_time": "2024-06-07T13:45:44.300261100Z",
     "start_time": "2024-06-07T13:45:44.284402600Z"
    }
   },
   "id": "fd953c0c8e396e39"
  },
  {
   "cell_type": "code",
   "execution_count": 10,
   "outputs": [
    {
     "data": {
      "text/plain": "   amount SD MAE (clipcount) Ours MAE (clipcount) SD MAE (YOLO)  \\\n0       5           10.79519             3.705284      4.384615   \n1      15          22.651066             4.678397     18.538462   \n2      25          30.939759               6.7726     22.923077   \n\n  Ours MAE (YOLO)   SD CLIP  Ours CLIP  \n0        4.692308  0.701278   0.699034  \n1       13.461538  0.706248   0.703396  \n2       16.153846  0.704534   0.703994  ",
      "text/html": "<div>\n<style scoped>\n    .dataframe tbody tr th:only-of-type {\n        vertical-align: middle;\n    }\n\n    .dataframe tbody tr th {\n        vertical-align: top;\n    }\n\n    .dataframe thead th {\n        text-align: right;\n    }\n</style>\n<table border=\"1\" class=\"dataframe\">\n  <thead>\n    <tr style=\"text-align: right;\">\n      <th></th>\n      <th>amount</th>\n      <th>SD MAE (clipcount)</th>\n      <th>Ours MAE (clipcount)</th>\n      <th>SD MAE (YOLO)</th>\n      <th>Ours MAE (YOLO)</th>\n      <th>SD CLIP</th>\n      <th>Ours CLIP</th>\n    </tr>\n  </thead>\n  <tbody>\n    <tr>\n      <th>0</th>\n      <td>5</td>\n      <td>10.79519</td>\n      <td>3.705284</td>\n      <td>4.384615</td>\n      <td>4.692308</td>\n      <td>0.701278</td>\n      <td>0.699034</td>\n    </tr>\n    <tr>\n      <th>1</th>\n      <td>15</td>\n      <td>22.651066</td>\n      <td>4.678397</td>\n      <td>18.538462</td>\n      <td>13.461538</td>\n      <td>0.706248</td>\n      <td>0.703396</td>\n    </tr>\n    <tr>\n      <th>2</th>\n      <td>25</td>\n      <td>30.939759</td>\n      <td>6.7726</td>\n      <td>22.923077</td>\n      <td>16.153846</td>\n      <td>0.704534</td>\n      <td>0.703994</td>\n    </tr>\n  </tbody>\n</table>\n</div>"
     },
     "execution_count": 10,
     "metadata": {},
     "output_type": "execute_result"
    }
   ],
   "source": [
    "best_lambda_df = pd.read_pickle(f\"experiments/experiment_{best_lambda}lambda.pkl\")\n",
    "best_lambda_df = best_lambda_df[best_lambda_df['is_clipcount'] == True]\n",
    "\n",
    "# SD (clipcount) MAE\n",
    "sd_clipcount_mae = best_lambda_df.groupby('amount').agg({'sd_count_diff': 'mean'}).reset_index()\n",
    "sd_clipcount_mae.rename(columns={'sd_count_diff': 'SD MAE (clipcount)'}, inplace=True)\n",
    "\n",
    "# Ours (clipcount) MAE\n",
    "ours_clipcount_mae = best_lambda_df.groupby('amount').agg({'sd_optimized_count_diff': 'mean'}).reset_index()\n",
    "ours_clipcount_mae.rename(columns={'sd_optimized_count_diff': 'Ours MAE (clipcount)'}, inplace=True)\n",
    "\n",
    "# SD (yolo) MAE\n",
    "sd_yolo_mae = best_lambda_df[best_lambda_df['is_yolo'] == True].groupby('amount').agg({'sd_count_diff2': 'mean'}).reset_index()\n",
    "sd_yolo_mae.rename(columns={'sd_count_diff2': 'SD MAE (YOLO)'}, inplace=True)\n",
    "\n",
    "# Ours (yolo) MAE\n",
    "ours_yolo_mae = best_lambda_df[best_lambda_df['is_yolo'] == True].groupby('amount').agg({'sd_optimized_count_diff2': 'mean'}).reset_index()\n",
    "ours_yolo_mae.rename(columns={'sd_optimized_count_diff2': 'Ours MAE (YOLO)'}, inplace=True)\n",
    "\n",
    "# SD (CLIP)\n",
    "sd_clip = (1 - best_lambda_df.groupby('amount').agg({'actual_relevance_score': 'mean'})).reset_index()\n",
    "sd_clip.rename(columns={'actual_relevance_score': 'SD CLIP'}, inplace=True)\n",
    "\n",
    "# Ours (CLIP)\n",
    "ours_clip = (1 - best_lambda_df.groupby('amount').agg({'optimized_relevance_score': 'mean'})).reset_index()\n",
    "ours_clip.rename(columns={'optimized_relevance_score': 'Ours CLIP'}, inplace=True)\n",
    "\n",
    "# Merge all dataframes\n",
    "merged_df = sd_clipcount_mae.merge(ours_clipcount_mae, on='amount', how='outer')\n",
    "merged_df = merged_df.merge(sd_yolo_mae, on='amount', how='outer')\n",
    "merged_df = merged_df.merge(ours_yolo_mae, on='amount', how='outer')\n",
    "merged_df = merged_df.merge(sd_clip, on='amount', how='outer')\n",
    "merged_df = merged_df.merge(ours_clip, on='amount', how='outer')\n",
    "\n",
    "merged_df"
   ],
   "metadata": {
    "collapsed": false,
    "ExecuteTime": {
     "end_time": "2024-06-07T13:45:52.168449Z",
     "start_time": "2024-06-07T13:45:52.092937400Z"
    }
   },
   "id": "f637b447e73abf21"
  },
  {
   "cell_type": "markdown",
   "source": [
    "# Explore best lambda"
   ],
   "metadata": {
    "collapsed": false
   },
   "id": "55a3e8eaafb8be95"
  },
  {
   "cell_type": "markdown",
   "source": [
    "### 1. Compare with ControlNet Baseline"
   ],
   "metadata": {
    "collapsed": false
   },
   "id": "b932460ae2ae6780"
  },
  {
   "cell_type": "code",
   "execution_count": 5,
   "outputs": [
    {
     "data": {
      "text/plain": "            MAE (clipcount)  MAE (YOLO)      CLIP\nSD                21.462005   15.282051  0.704020\nControlNet         9.812914   15.000000  0.720257\nOurs               5.052094   11.435897  0.702141",
      "text/html": "<div>\n<style scoped>\n    .dataframe tbody tr th:only-of-type {\n        vertical-align: middle;\n    }\n\n    .dataframe tbody tr th {\n        vertical-align: top;\n    }\n\n    .dataframe thead th {\n        text-align: right;\n    }\n</style>\n<table border=\"1\" class=\"dataframe\">\n  <thead>\n    <tr style=\"text-align: right;\">\n      <th></th>\n      <th>MAE (clipcount)</th>\n      <th>MAE (YOLO)</th>\n      <th>CLIP</th>\n    </tr>\n  </thead>\n  <tbody>\n    <tr>\n      <th>SD</th>\n      <td>21.462005</td>\n      <td>15.282051</td>\n      <td>0.704020</td>\n    </tr>\n    <tr>\n      <th>ControlNet</th>\n      <td>9.812914</td>\n      <td>15.000000</td>\n      <td>0.720257</td>\n    </tr>\n    <tr>\n      <th>Ours</th>\n      <td>5.052094</td>\n      <td>11.435897</td>\n      <td>0.702141</td>\n    </tr>\n  </tbody>\n</table>\n</div>"
     },
     "execution_count": 5,
     "metadata": {},
     "output_type": "execute_result"
    }
   ],
   "source": [
    "controlnet = pd.read_pickle(f\"experiments/experiment_controlnet_1.pkl\")\n",
    "controlnet = controlnet[controlnet['is_clipcount'] == True]\n",
    "\n",
    "sd_mae_clipcount = best_lambda_df['sd_count_diff'].mean()\n",
    "controlnet_mae_clipcount = controlnet['sd_optimized_count_diff'].mean()\n",
    "ours_mae_clipcount = best_lambda_df['sd_optimized_count_diff'].mean()\n",
    "\n",
    "sd_mae_yolo = best_lambda_df[best_lambda_df['is_yolo']==True]['sd_count_diff2'].mean()\n",
    "controlnet_mae_yolo = controlnet[controlnet['is_yolo']==True]['sd_optimized_count_diff2'].mean()\n",
    "ours_mae_yolo = best_lambda_df[best_lambda_df['is_yolo']==True]['sd_optimized_count_diff2'].mean()\n",
    "\n",
    "sd_clip = 1-best_lambda_df['actual_relevance_score'].mean()\n",
    "controlnet_clip = 1-controlnet['optimized_relevance_score'].mean()\n",
    "ours_mae_clip = 1-best_lambda_df['optimized_relevance_score'].mean()\n",
    "\n",
    "\n",
    "data = {\n",
    "    'MAE (clipcount)': [sd_mae_clipcount, controlnet_mae_clipcount, ours_mae_clipcount],\n",
    "    'MAE (YOLO)': [sd_mae_yolo, controlnet_mae_yolo, ours_mae_yolo],\n",
    "    'CLIP': [sd_clip, controlnet_clip, ours_mae_clip]\n",
    "}\n",
    "\n",
    "pd.DataFrame(data, index=['SD', 'ControlNet', 'Ours'])"
   ],
   "metadata": {
    "collapsed": false,
    "ExecuteTime": {
     "end_time": "2024-06-07T13:36:20.269222900Z",
     "start_time": "2024-06-07T13:36:20.194804600Z"
    }
   },
   "id": "1f869743b898df6f"
  },
  {
   "cell_type": "markdown",
   "source": [
    "## Compare to standard SDXL with different number of diffusion steps"
   ],
   "metadata": {
    "collapsed": false
   },
   "id": "fee193e07679328b"
  },
  {
   "cell_type": "code",
   "execution_count": 11,
   "outputs": [
    {
     "name": "stderr",
     "output_type": "stream",
     "text": [
      "C:\\Users\\ozzafar\\AppData\\Local\\Temp\\ipykernel_33248\\1922994017.py:6: FutureWarning: The behavior of DataFrame concatenation with empty or all-NA entries is deprecated. In a future version, this will no longer exclude empty or all-NA columns when determining the result dtypes. To retain the old behavior, exclude the relevant entries before the concat operation.\n",
      "  all_steps = pd.concat([all_steps, pd.DataFrame\n"
     ]
    },
    {
     "data": {
      "text/plain": "  steps  SD (clipcount) MAE  Ours (clipcount) MAE  SD (yolo) MAE  \\\n0     1           21.462005             21.462005      15.282051   \n1     2           21.462005             15.623152      15.282051   \n2     3           21.462005             14.957330      15.282051   \n3     4           21.462005             14.929599      15.282051   \n4     5           21.462005             14.656707      15.282051   \n\n   Ours (yolo) MAE  SD (CLIP)  Ours (CLIP)  \n0        15.282051    0.70402     0.704020  \n1        14.871795    0.70402     0.704414  \n2        15.692308    0.70402     0.707320  \n3        16.743590    0.70402     0.708308  \n4        15.307692    0.70402     0.709795  ",
      "text/html": "<div>\n<style scoped>\n    .dataframe tbody tr th:only-of-type {\n        vertical-align: middle;\n    }\n\n    .dataframe tbody tr th {\n        vertical-align: top;\n    }\n\n    .dataframe thead th {\n        text-align: right;\n    }\n</style>\n<table border=\"1\" class=\"dataframe\">\n  <thead>\n    <tr style=\"text-align: right;\">\n      <th></th>\n      <th>steps</th>\n      <th>SD (clipcount) MAE</th>\n      <th>Ours (clipcount) MAE</th>\n      <th>SD (yolo) MAE</th>\n      <th>Ours (yolo) MAE</th>\n      <th>SD (CLIP)</th>\n      <th>Ours (CLIP)</th>\n    </tr>\n  </thead>\n  <tbody>\n    <tr>\n      <th>0</th>\n      <td>1</td>\n      <td>21.462005</td>\n      <td>21.462005</td>\n      <td>15.282051</td>\n      <td>15.282051</td>\n      <td>0.70402</td>\n      <td>0.704020</td>\n    </tr>\n    <tr>\n      <th>1</th>\n      <td>2</td>\n      <td>21.462005</td>\n      <td>15.623152</td>\n      <td>15.282051</td>\n      <td>14.871795</td>\n      <td>0.70402</td>\n      <td>0.704414</td>\n    </tr>\n    <tr>\n      <th>2</th>\n      <td>3</td>\n      <td>21.462005</td>\n      <td>14.957330</td>\n      <td>15.282051</td>\n      <td>15.692308</td>\n      <td>0.70402</td>\n      <td>0.707320</td>\n    </tr>\n    <tr>\n      <th>3</th>\n      <td>4</td>\n      <td>21.462005</td>\n      <td>14.929599</td>\n      <td>15.282051</td>\n      <td>16.743590</td>\n      <td>0.70402</td>\n      <td>0.708308</td>\n    </tr>\n    <tr>\n      <th>4</th>\n      <td>5</td>\n      <td>21.462005</td>\n      <td>14.656707</td>\n      <td>15.282051</td>\n      <td>15.307692</td>\n      <td>0.70402</td>\n      <td>0.709795</td>\n    </tr>\n  </tbody>\n</table>\n</div>"
     },
     "execution_count": 11,
     "metadata": {},
     "output_type": "execute_result"
    }
   ],
   "source": [
    "all_steps = pd.DataFrame(columns=['steps', 'SD (clipcount) MAE', 'Ours (clipcount) MAE', 'SD (yolo) MAE', 'Ours (yolo) MAE', 'SD (CLIP)', 'Ours (CLIP)'])\n",
    "\n",
    "for step in range(1,6):\n",
    "    curr = pd.read_pickle(f\"experiments/experiment_{best_lambda}lambda-eval-{step}.pkl\")\n",
    "    curr = curr[curr['is_clipcount'] == True]\n",
    "    all_steps = pd.concat([all_steps, pd.DataFrame\n",
    "    ([\n",
    "        {\n",
    "            \"steps\" : step,\n",
    "            'SD (clipcount) MAE' : curr['sd_count_diff'].mean(),\n",
    "            'Ours (clipcount) MAE' : curr['sd_optimized_count_diff'].mean(),\n",
    "            'SD (yolo) MAE' : curr[curr['is_yolo'] == True]['sd_count_diff2'].mean(),\n",
    "            'Ours (yolo) MAE' : curr[curr['is_yolo'] == True]['sd_optimized_count_diff2'].mean(),\n",
    "            'SD (CLIP)' : 1-curr['actual_relevance_score'].mean(),\n",
    "            'Ours (CLIP)' : 1-curr['optimized_relevance_score'].mean()\n",
    "        }\n",
    "    ])], ignore_index=True)\n",
    "    \n",
    "all_steps"
   ],
   "metadata": {
    "collapsed": false,
    "ExecuteTime": {
     "end_time": "2024-06-07T13:46:40.639894900Z",
     "start_time": "2024-06-07T13:46:40.623381500Z"
    }
   },
   "id": "d7563adf99fbca22"
  },
  {
   "cell_type": "code",
   "execution_count": 6,
   "outputs": [],
   "source": [],
   "metadata": {
    "collapsed": false,
    "ExecuteTime": {
     "end_time": "2024-06-07T13:36:20.269222900Z",
     "start_time": "2024-06-07T13:36:20.227080500Z"
    }
   },
   "id": "45cd33cedb40bd2d"
  }
 ],
 "metadata": {
  "kernelspec": {
   "display_name": "Python 3",
   "language": "python",
   "name": "python3"
  },
  "language_info": {
   "codemirror_mode": {
    "name": "ipython",
    "version": 2
   },
   "file_extension": ".py",
   "mimetype": "text/x-python",
   "name": "python",
   "nbconvert_exporter": "python",
   "pygments_lexer": "ipython2",
   "version": "2.7.6"
  }
 },
 "nbformat": 4,
 "nbformat_minor": 5
}
