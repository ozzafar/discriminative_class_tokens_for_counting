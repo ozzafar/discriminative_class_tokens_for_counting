{
 "cells": [
  {
   "cell_type": "code",
   "execution_count": 2,
   "id": "initial_id",
   "metadata": {
    "collapsed": true,
    "ExecuteTime": {
     "end_time": "2024-06-21T11:42:53.434391100Z",
     "start_time": "2024-06-21T11:42:49.507814700Z"
    }
   },
   "outputs": [
    {
     "name": "stderr",
     "output_type": "stream",
     "text": [
      "C:\\Users\\ozzafar\\AppData\\Local\\Temp\\ipykernel_4228\\2716871690.py:1: DeprecationWarning: \n",
      "Pyarrow will become a required dependency of pandas in the next major release of pandas (pandas 3.0),\n",
      "(to allow more performant data types, such as the Arrow string type, and better interoperability with other libraries)\n",
      "but was not found to be installed on your system.\n",
      "If this would cause problems for you,\n",
      "please provide us feedback at https://github.com/pandas-dev/pandas/issues/54466\n",
      "        \n",
      "  import pandas as pd\n"
     ]
    }
   ],
   "source": [
    "import pandas as pd\n",
    "from utils import group_experiment_by_amount"
   ]
  },
  {
   "cell_type": "code",
   "execution_count": 3,
   "outputs": [
    {
     "name": "stderr",
     "output_type": "stream",
     "text": [
      "C:\\Users\\ozzafar\\AppData\\Local\\Temp\\ipykernel_4228\\1893550129.py:7: FutureWarning: The behavior of DataFrame concatenation with empty or all-NA entries is deprecated. In a future version, this will no longer exclude empty or all-NA columns when determining the result dtypes. To retain the old behavior, exclude the relevant entries before the concat operation.\n",
      "  all_thresholds = pd.concat([all_thresholds, pd.DataFrame\n"
     ]
    },
    {
     "data": {
      "text/plain": "   threshold  SD MAE (clipcount)  Ours MAE (clipcount)  SD MAE (YOLO)  \\\n0        0.2           20.689931             18.495025      15.177778   \n1        0.3           21.103234             15.382917      15.177778   \n2        0.4           21.103234             17.688358      15.177778   \n3        0.5           21.103234             17.737352      15.177778   \n4        0.6           21.103234             24.386173      15.177778   \n5        0.7           21.103234             25.280816      15.177778   \n\n   Ours MAE (YOLO)   SD CLIP  Ours CLIP  \n0        10.155556  0.702454   0.702083  \n1         6.977778  0.702347   0.702029  \n2         9.066667  0.702347   0.702307  \n3         8.400000  0.702347   0.702020  \n4        11.733333  0.702347   0.705907  \n5        13.555556  0.702347   0.700811  ",
      "text/html": "<div>\n<style scoped>\n    .dataframe tbody tr th:only-of-type {\n        vertical-align: middle;\n    }\n\n    .dataframe tbody tr th {\n        vertical-align: top;\n    }\n\n    .dataframe thead th {\n        text-align: right;\n    }\n</style>\n<table border=\"1\" class=\"dataframe\">\n  <thead>\n    <tr style=\"text-align: right;\">\n      <th></th>\n      <th>threshold</th>\n      <th>SD MAE (clipcount)</th>\n      <th>Ours MAE (clipcount)</th>\n      <th>SD MAE (YOLO)</th>\n      <th>Ours MAE (YOLO)</th>\n      <th>SD CLIP</th>\n      <th>Ours CLIP</th>\n    </tr>\n  </thead>\n  <tbody>\n    <tr>\n      <th>0</th>\n      <td>0.2</td>\n      <td>20.689931</td>\n      <td>18.495025</td>\n      <td>15.177778</td>\n      <td>10.155556</td>\n      <td>0.702454</td>\n      <td>0.702083</td>\n    </tr>\n    <tr>\n      <th>1</th>\n      <td>0.3</td>\n      <td>21.103234</td>\n      <td>15.382917</td>\n      <td>15.177778</td>\n      <td>6.977778</td>\n      <td>0.702347</td>\n      <td>0.702029</td>\n    </tr>\n    <tr>\n      <th>2</th>\n      <td>0.4</td>\n      <td>21.103234</td>\n      <td>17.688358</td>\n      <td>15.177778</td>\n      <td>9.066667</td>\n      <td>0.702347</td>\n      <td>0.702307</td>\n    </tr>\n    <tr>\n      <th>3</th>\n      <td>0.5</td>\n      <td>21.103234</td>\n      <td>17.737352</td>\n      <td>15.177778</td>\n      <td>8.400000</td>\n      <td>0.702347</td>\n      <td>0.702020</td>\n    </tr>\n    <tr>\n      <th>4</th>\n      <td>0.6</td>\n      <td>21.103234</td>\n      <td>24.386173</td>\n      <td>15.177778</td>\n      <td>11.733333</td>\n      <td>0.702347</td>\n      <td>0.705907</td>\n    </tr>\n    <tr>\n      <th>5</th>\n      <td>0.7</td>\n      <td>21.103234</td>\n      <td>25.280816</td>\n      <td>15.177778</td>\n      <td>13.555556</td>\n      <td>0.702347</td>\n      <td>0.700811</td>\n    </tr>\n  </tbody>\n</table>\n</div>"
     },
     "execution_count": 3,
     "metadata": {},
     "output_type": "execute_result"
    }
   ],
   "source": [
    "all_thresholds = pd.DataFrame(columns=['threshold', 'SD MAE (clipcount)', 'Ours MAE (clipcount)', 'SD MAE (YOLO)', 'Ours MAE (YOLO)', 'SD CLIP', 'Ours CLIP'])\n",
    "thresholds = [0.2,0.3,0.4,0.5,0.6,0.7]\n",
    "\n",
    "for threshold in thresholds:\n",
    "    curr = pd.read_pickle(f\"../experiments/dynamic_scale_factor/experiment_dynamic_scale_factor_thresh_{str(threshold).replace('.','')}.pkl\")\n",
    "    curr = curr[curr['is_clipcount'] == True]\n",
    "    all_thresholds = pd.concat([all_thresholds, pd.DataFrame\n",
    "    ([\n",
    "        {\n",
    "            \"threshold\" : threshold,\n",
    "            'SD MAE (clipcount)' : curr['sd_count_diff'].mean(),\n",
    "            'Ours MAE (clipcount)' : curr['sd_optimized_count_diff'].mean(),\n",
    "            'SD MAE (YOLO)' : curr[curr['is_yolo'] == True]['sd_count_diff2'].mean(),\n",
    "            'Ours MAE (YOLO)' : curr[curr['is_yolo'] == True]['sd_optimized_count_diff2'].mean(),\n",
    "            'SD CLIP' : 1-curr['actual_relevance_score'].mean(),\n",
    "            'Ours CLIP' : 1-curr['optimized_relevance_score'].mean()\n",
    "        }\n",
    "    ])], ignore_index=True)\n",
    "    \n",
    "all_thresholds"
   ],
   "metadata": {
    "collapsed": false,
    "ExecuteTime": {
     "end_time": "2024-06-21T11:42:53.463723300Z",
     "start_time": "2024-06-21T11:42:53.438393700Z"
    }
   },
   "id": "5b0ec193fa2c457"
  },
  {
   "cell_type": "code",
   "execution_count": 4,
   "outputs": [
    {
     "data": {
      "text/plain": "0.3"
     },
     "execution_count": 4,
     "metadata": {},
     "output_type": "execute_result"
    }
   ],
   "source": [
    "best_threshold_index = all_thresholds[\"Ours MAE (YOLO)\"].idxmin()\n",
    "best_threshold = thresholds[best_threshold_index]\n",
    "best_threshold"
   ],
   "metadata": {
    "collapsed": false,
    "ExecuteTime": {
     "end_time": "2024-06-21T11:42:53.500565200Z",
     "start_time": "2024-06-21T11:42:53.461359700Z"
    }
   },
   "id": "77301f6f23f81518"
  },
  {
   "cell_type": "code",
   "execution_count": 5,
   "outputs": [
    {
     "data": {
      "text/plain": "   amount SD MAE (clipcount) Ours MAE (clipcount) SD MAE (YOLO)  \\\n0       5           4.906011            16.057946           4.6   \n1      15          23.152459            10.843731     18.733333   \n2      25          35.251232            19.247074          22.2   \n\n  Ours MAE (YOLO)   SD CLIP  Ours CLIP  \n0        2.133333  0.696720   0.698600  \n1        8.333333  0.703467   0.702160  \n2       10.466667  0.706853   0.705327  ",
      "text/html": "<div>\n<style scoped>\n    .dataframe tbody tr th:only-of-type {\n        vertical-align: middle;\n    }\n\n    .dataframe tbody tr th {\n        vertical-align: top;\n    }\n\n    .dataframe thead th {\n        text-align: right;\n    }\n</style>\n<table border=\"1\" class=\"dataframe\">\n  <thead>\n    <tr style=\"text-align: right;\">\n      <th></th>\n      <th>amount</th>\n      <th>SD MAE (clipcount)</th>\n      <th>Ours MAE (clipcount)</th>\n      <th>SD MAE (YOLO)</th>\n      <th>Ours MAE (YOLO)</th>\n      <th>SD CLIP</th>\n      <th>Ours CLIP</th>\n    </tr>\n  </thead>\n  <tbody>\n    <tr>\n      <th>0</th>\n      <td>5</td>\n      <td>4.906011</td>\n      <td>16.057946</td>\n      <td>4.6</td>\n      <td>2.133333</td>\n      <td>0.696720</td>\n      <td>0.698600</td>\n    </tr>\n    <tr>\n      <th>1</th>\n      <td>15</td>\n      <td>23.152459</td>\n      <td>10.843731</td>\n      <td>18.733333</td>\n      <td>8.333333</td>\n      <td>0.703467</td>\n      <td>0.702160</td>\n    </tr>\n    <tr>\n      <th>2</th>\n      <td>25</td>\n      <td>35.251232</td>\n      <td>19.247074</td>\n      <td>22.2</td>\n      <td>10.466667</td>\n      <td>0.706853</td>\n      <td>0.705327</td>\n    </tr>\n  </tbody>\n</table>\n</div>"
     },
     "execution_count": 5,
     "metadata": {},
     "output_type": "execute_result"
    }
   ],
   "source": [
    "best_threshold_df = pd.read_pickle(f\"../experiments/dynamic_scale_factor/experiment_dynamic_scale_factor_thresh_{str(best_threshold).replace('.','')}.pkl\")\n",
    "best_threshold_df = best_threshold_df[best_threshold_df['is_clipcount'] == True]\n",
    "group_experiment_by_amount(best_threshold_df)"
   ],
   "metadata": {
    "collapsed": false,
    "ExecuteTime": {
     "end_time": "2024-06-21T11:42:53.549565200Z",
     "start_time": "2024-06-21T11:42:53.466730700Z"
    }
   },
   "id": "841058828b90f912"
  },
  {
   "cell_type": "code",
   "execution_count": 19,
   "outputs": [
    {
     "name": "stderr",
     "output_type": "stream",
     "text": [
      "C:\\Users\\ozzafar\\AppData\\Local\\Temp\\ipykernel_4228\\3435746483.py:12: FutureWarning: The behavior of DataFrame concatenation with empty or all-NA entries is deprecated. In a future version, this will no longer exclude empty or all-NA columns when determining the result dtypes. To retain the old behavior, exclude the relevant entries before the concat operation.\n",
      "  df = pd.concat([df, pd.DataFrame\n"
     ]
    },
    {
     "data": {
      "text/plain": "   SD MAE (clipcount)  Ours MAE (clipcount)  SD MAE (YOLO)  Ours MAE (YOLO)  \\\n0           21.103234             15.382917      15.177778         6.977778   \n1           21.103234             17.292042      15.177778         7.688889   \n2           21.103234             16.314123      15.177778         9.577778   \n3           21.103234             15.036501      15.177778         8.177778   \n\n    SD CLIP  Ours CLIP                                               name  \n0  0.702347   0.702029          experiment_dynamic_scale_factor_thresh_03  \n1  0.702347   0.699616  experiment_dynamic_scale_factor_thresh_03_lamb...  \n2  0.702347   0.699476  experiment_dynamic_scale_factor_thresh_03_lamb...  \n3  0.702347   0.699358  experiment_dynamic_scale_factor_thresh_03_lamb...  ",
      "text/html": "<div>\n<style scoped>\n    .dataframe tbody tr th:only-of-type {\n        vertical-align: middle;\n    }\n\n    .dataframe tbody tr th {\n        vertical-align: top;\n    }\n\n    .dataframe thead th {\n        text-align: right;\n    }\n</style>\n<table border=\"1\" class=\"dataframe\">\n  <thead>\n    <tr style=\"text-align: right;\">\n      <th></th>\n      <th>SD MAE (clipcount)</th>\n      <th>Ours MAE (clipcount)</th>\n      <th>SD MAE (YOLO)</th>\n      <th>Ours MAE (YOLO)</th>\n      <th>SD CLIP</th>\n      <th>Ours CLIP</th>\n      <th>name</th>\n    </tr>\n  </thead>\n  <tbody>\n    <tr>\n      <th>0</th>\n      <td>21.103234</td>\n      <td>15.382917</td>\n      <td>15.177778</td>\n      <td>6.977778</td>\n      <td>0.702347</td>\n      <td>0.702029</td>\n      <td>experiment_dynamic_scale_factor_thresh_03</td>\n    </tr>\n    <tr>\n      <th>1</th>\n      <td>21.103234</td>\n      <td>17.292042</td>\n      <td>15.177778</td>\n      <td>7.688889</td>\n      <td>0.702347</td>\n      <td>0.699616</td>\n      <td>experiment_dynamic_scale_factor_thresh_03_lamb...</td>\n    </tr>\n    <tr>\n      <th>2</th>\n      <td>21.103234</td>\n      <td>16.314123</td>\n      <td>15.177778</td>\n      <td>9.577778</td>\n      <td>0.702347</td>\n      <td>0.699476</td>\n      <td>experiment_dynamic_scale_factor_thresh_03_lamb...</td>\n    </tr>\n    <tr>\n      <th>3</th>\n      <td>21.103234</td>\n      <td>15.036501</td>\n      <td>15.177778</td>\n      <td>8.177778</td>\n      <td>0.702347</td>\n      <td>0.699358</td>\n      <td>experiment_dynamic_scale_factor_thresh_03_lamb...</td>\n    </tr>\n  </tbody>\n</table>\n</div>"
     },
     "execution_count": 19,
     "metadata": {},
     "output_type": "execute_result"
    }
   ],
   "source": [
    "df = pd.DataFrame(columns=['SD MAE (clipcount)', 'Ours MAE (clipcount)', 'SD MAE (YOLO)', 'Ours MAE (YOLO)', 'SD CLIP', 'Ours CLIP'])\n",
    "experiment_names = [\n",
    "    \"experiment_dynamic_scale_factor_thresh_03\",\n",
    "    \"experiment_dynamic_scale_factor_thresh_03_lambda_0_lr_01_no_forward\",\n",
    "    \"experiment_dynamic_scale_factor_thresh_03_lambda_5_lr_01\",\n",
    "    \"experiment_dynamic_scale_factor_thresh_03_lambda_5_lr_01_no_forward\"\n",
    "]\n",
    "\n",
    "for experiment_name in experiment_names:\n",
    "    curr = pd.read_pickle(f\"../experiments/dynamic_scale_factor/{experiment_name}.pkl\")\n",
    "    curr = curr[curr['is_clipcount'] == True]\n",
    "    df = pd.concat([df, pd.DataFrame\n",
    "    ([\n",
    "        {\n",
    "            \"name\" : experiment_name,\n",
    "            'SD MAE (clipcount)' : curr['sd_count_diff'].mean(),\n",
    "            'Ours MAE (clipcount)' : curr['sd_optimized_count_diff'].mean(),\n",
    "            'SD MAE (YOLO)' : curr[curr['is_yolo'] == True]['sd_count_diff2'].mean(),\n",
    "            'Ours MAE (YOLO)' : curr[curr['is_yolo'] == True]['sd_optimized_count_diff2'].mean(),\n",
    "            'SD CLIP' : 1-curr['actual_relevance_score'].mean(),\n",
    "            'Ours CLIP' : 1-curr['optimized_relevance_score'].mean()\n",
    "        }\n",
    "    ])], ignore_index=True)\n",
    "    \n",
    "df"
   ],
   "metadata": {
    "collapsed": false,
    "ExecuteTime": {
     "end_time": "2024-06-21T15:48:18.791535100Z",
     "start_time": "2024-06-21T15:48:18.774465600Z"
    }
   },
   "id": "96650808ac80021"
  },
  {
   "cell_type": "markdown",
   "source": [
    "Insights:\n",
    "1. setting yolo threshold 0.3 has most Quantitative results, though 0.5 has best Qualitative results (dynamic_scale_factor_thresh_05)\n",
    "2. integrating clip doesn't help\n",
    "3. remove forward isn't consistent"
   ],
   "metadata": {
    "collapsed": false
   },
   "id": "42b1235e239705a6"
  },
  {
   "cell_type": "code",
   "execution_count": null,
   "outputs": [],
   "source": [],
   "metadata": {
    "collapsed": false
   },
   "id": "edb0b3a54497e5d8"
  }
 ],
 "metadata": {
  "kernelspec": {
   "display_name": "Python 3",
   "language": "python",
   "name": "python3"
  },
  "language_info": {
   "codemirror_mode": {
    "name": "ipython",
    "version": 2
   },
   "file_extension": ".py",
   "mimetype": "text/x-python",
   "name": "python",
   "nbconvert_exporter": "python",
   "pygments_lexer": "ipython2",
   "version": "2.7.6"
  }
 },
 "nbformat": 4,
 "nbformat_minor": 5
}
